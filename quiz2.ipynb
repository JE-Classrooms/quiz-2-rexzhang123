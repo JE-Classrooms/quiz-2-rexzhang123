{
 "cells": [
  {
   "cell_type": "markdown",
   "metadata": {},
   "source": [
    "# Quiz 2\n",
    "\n",
    "**Author:**"
   ]
  },
  {
   "cell_type": "markdown",
   "metadata": {},
   "source": [
    "**Exercise 1:** \n",
    "\n",
    "Create a function that takes a string composed of a combination of letters and numbers as input, extracts only the numbers, and returns the minimum, maximum, and sum of the numbers. Use the function to print the minimum, maximum, and sum for the following strings:\n",
    "\n",
    "**(a)** 'aBnAdC2m45m6m789m34'\n",
    "\n",
    "**Expected output:** Minimum:  2 Maximum:  9 Sum:  48\n",
    "\n",
    "**(b)** 'AABBBCCccD12345'\n",
    "\n",
    "**Expected output:** Minimum:  1 Maximum:  5 Sum:  15\n",
    "\n",
    "**(c)** '1541615'\n",
    "\n",
    "**Expected output:** Minimum:  1 Maximum:  6 Sum:  23\n",
    "\n",
    "*Hint:* notice that numbers are not upper case not lower case! (recall Exercise 1 from Lecture 9 and the function ```int()```)\n"
   ]
  },
  {
   "cell_type": "code",
   "execution_count": 8,
   "metadata": {},
   "outputs": [
    {
     "name": "stdout",
     "output_type": "stream",
     "text": [
      "Minimum: 2 Maximum: 9 Sum: 48\n",
      "Minimum: 1 Maximum: 5 Sum: 15\n",
      "Minimum: 1 Maximum: 6 Sum: 23\n"
     ]
    }
   ],
   "source": [
    "\n",
    "\n",
    "def extract(s1):\n",
    "    L = []\n",
    "    for i in s1:\n",
    "        if(i.isdigit()):\n",
    "            L.append(int(i))\n",
    "    print(\"Minimum:\", min(L), \"Maximum:\", max(L), \"Sum:\", sum(L))\n",
    "\n",
    "extract(\"aBnAdC2m45m6m789m34\")\n",
    "extract('AABBBCCccD12345')\n",
    "extract('1541615')\n",
    "\n",
    "\n",
    "\n",
    "            \n",
    "    "
   ]
  },
  {
   "cell_type": "markdown",
   "metadata": {},
   "source": [
    "**Exercise 2:**\n",
    "\n",
    "Create a function that takes any arbitrary dictionary that contains the key ```radius``` as an input and returns the area of a circle with that radius. Calculate the area for the following two dictionaries:\n",
    "\n",
    "**(a)** {'a':10, 'b':160, 'radius':5, 'what':0}\n",
    "\n",
    "**Expected output:** 15.707963267948966\n",
    "\n",
    "**(b)** {1:5, 4:8, 'radius':13, 10:10, 20:20}\n",
    "\n",
    "**Expected output:** 40.840704496667314\n",
    "\n",
    "*Hint* the area of a circle is $\\pi*radius^2$. You can use $\\pi$ with the library ```math``` as ```math.pi``` (check the dictionaries.ipynb to remember how to get the value of a key)"
   ]
  },
  {
   "cell_type": "code",
   "execution_count": 14,
   "metadata": {},
   "outputs": [
    {
     "name": "stdout",
     "output_type": "stream",
     "text": [
      "78.53981633974483\n",
      "530.929158456675\n"
     ]
    }
   ],
   "source": [
    "import math\n",
    "def area(dic):\n",
    "    radius = dic[\"radius\"]\n",
    "    return math.pi*(radius**2)\n",
    "    \n",
    "ans1 = area( {'a':10, 'b':160, 'radius':5, 'what':0})\n",
    "print(ans1)\n",
    "\n",
    "ans2 = area( {1:5, 4:8, 'radius':13, 10:10, 20:20})\n",
    "print(ans2)"
   ]
  },
  {
   "cell_type": "markdown",
   "metadata": {},
   "source": [
    "**Exercise 3:**\n",
    "\n",
    "Write a Python function to sum all the numbers in a list. Provide a result for the function with three numbers of your choice."
   ]
  },
  {
   "cell_type": "code",
   "execution_count": 16,
   "metadata": {},
   "outputs": [
    {
     "name": "stdout",
     "output_type": "stream",
     "text": [
      "18\n"
     ]
    }
   ],
   "source": [
    "\n",
    "def sum_3(num_list):\n",
    "    print(sum(num_list))\n",
    "    \n",
    "sum_3([3,12,3])"
   ]
  },
  {
   "cell_type": "code",
   "execution_count": null,
   "metadata": {},
   "outputs": [],
   "source": []
  }
 ],
 "metadata": {
  "kernelspec": {
   "display_name": "conda_amazonei_mxnet_p36",
   "language": "python",
   "name": "conda_amazonei_mxnet_p36"
  },
  "language_info": {
   "codemirror_mode": {
    "name": "ipython",
    "version": 3
   },
   "file_extension": ".py",
   "mimetype": "text/x-python",
   "name": "python",
   "nbconvert_exporter": "python",
   "pygments_lexer": "ipython3",
   "version": "3.6.13"
  },
  "vscode": {
   "interpreter": {
    "hash": "9fbb33e86ca55080a202fed700efde3fb4ffe3f46131e5b52201b9ba06ce5f72"
   }
  }
 },
 "nbformat": 4,
 "nbformat_minor": 4
}
